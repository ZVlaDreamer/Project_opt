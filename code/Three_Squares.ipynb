{
 "cells": [
  {
   "cell_type": "code",
   "execution_count": 1,
   "metadata": {},
   "outputs": [],
   "source": [
    "import matplotlib.pyplot as plt\n",
    "plt.rc(\"text\", usetex=True)\n",
    "import ipywidgets as ipywidg\n",
    "import numpy as np\n",
    "import liboptpy.unconstr_solvers as methods\n",
    "import liboptpy.step_size as ss\n",
    "import math\n",
    "import scipy.optimize as optimize\n",
    "%matplotlib inline\n",
    "import matplotlib.pylab as pylab\n",
    "plt.rcParams['lines.linewidth'] = 3\n",
    "plt.rcParams['lines.markersize'] = 12\n",
    "plt.rcParams['xtick.labelsize'] = 24\n",
    "plt.rcParams['ytick.labelsize'] = 24\n",
    "plt.rcParams['legend.fontsize'] = 40\n",
    "plt.rcParams['axes.titlesize']=36\n",
    "plt.rcParams['axes.labelsize']=24\n",
    "plt.rcParams['figure.figsize'] = (24.0, 12.0)\n",
    "plt.rcParams['font.size'] = 40"
   ]
  },
  {
   "cell_type": "markdown",
   "metadata": {},
   "source": [
    "Внизу приведены примеры для нескольких случаев"
   ]
  },
  {
   "cell_type": "code",
   "execution_count": 2,
   "metadata": {},
   "outputs": [
    {
     "name": "stdout",
     "output_type": "stream",
     "text": [
      "[[1 2]\n",
      " [2 3]\n",
      " [3 5]]\n",
      "V [[1. 0.]\n",
      " [0. 1.]]\n",
      "U [[ 0.26726124  0.77151675]\n",
      " [ 0.53452248 -0.6172134 ]\n",
      " [ 0.80178373  0.15430335]]\n",
      "ULV [[1. 2.]\n",
      " [2. 3.]\n",
      " [3. 5.]]\n"
     ]
    }
   ],
   "source": [
    "#Golub-Kahan-Lanczos Bidiagonalization Procedure.   High-triangular\n",
    "def GKLBi_procedure(A):\n",
    "    #print(A.shape[0])\n",
    "    #print(A.shape[1])\n",
    "    v = np.zeros(A.shape[1])\n",
    "    u = np.zeros(A.shape[0])\n",
    "    beta = 0\n",
    "    v[0] = 1\n",
    "    #print(v)\n",
    "    #print(A.dot(v))\n",
    "    #V_matrix = np.zeros((A.shape[1], A.shape[1]))\n",
    "    V_matrix = []\n",
    "    U_matrix = []\n",
    "    #U_matrix = np.zeros((A.shape[0], A.shape[1]))\n",
    "    V_matrix.append(v)\n",
    "    L = np.zeros((A.shape[1], A.shape[1]))\n",
    "    #V_matrix = np.append(V_matrix, v)\n",
    "    for k in range(1, A.shape[1] + 1):\n",
    "        u = A.dot(v) - beta * u\n",
    "        #print(u)\n",
    "        alpha = np.linalg.norm(u, 2)\n",
    "        #print(alpha)\n",
    "        u = u / alpha\n",
    "        U_matrix.append(u)\n",
    "        #U_matrix = np.append(U_matrix, u)\n",
    "        v = A.T.dot(u) - alpha * v\n",
    "        beta = np.linalg.norm(v, 2)\n",
    "        v = v/beta\n",
    "        #print(\"This is v\", v)\n",
    "        if(k != A.shape[1]):\n",
    "            V_matrix.append(v)\n",
    "        L[k-1][k-1] = alpha\n",
    "        if(k != A.shape[1]):\n",
    "            L[k-1][k] = beta\n",
    "        #V_matrix = np.append(V_matrix, v)\n",
    "    V_matrix = np.array(V_matrix)\n",
    "    U_matrix = np.array(U_matrix).T\n",
    "    print(\"V\", V_matrix)\n",
    "    print(\"U\", U_matrix)\n",
    "    #print(\"ULV\", V_matrix.dot(L.T.dot(V_matrix)))\n",
    "    #return U_matrix, L, V_matrix\n",
    "    #L = U_matrix.T.dot(A.dot(V_matrix))\n",
    "    #print(U_matrix.dot(A.dot(V_matrix)))\n",
    "    #print(\"L\", L)\n",
    "    #print(\"U*U\", U_matrix.T.dot(U_matrix))\n",
    "    print(\"ULV\", U_matrix.dot(L.dot(V_matrix)))\n",
    "    #print(U_matrix.T.dot(L.dot(V_matrix)))\n",
    "Z = np.array([[1, 2],\n",
    "              [2, 3],\n",
    "              [3, 5]])\n",
    "Z = np.reshape(Z, (3,2))\n",
    "print(Z)\n",
    "GKLBi_procedure(Z)"
   ]
  },
  {
   "cell_type": "code",
   "execution_count": 3,
   "metadata": {},
   "outputs": [
    {
     "name": "stdout",
     "output_type": "stream",
     "text": [
      "[[ 1.00000000e+00  5.20361465e-17 -3.73145497e-16 -3.59626182e-13]\n",
      " [ 0.00000000e+00  4.78364873e-01 -1.84393365e-01 -8.58583796e-01]\n",
      " [ 0.00000000e+00  7.65383797e-01 -3.91785738e-01  5.10579650e-01]\n",
      " [ 0.00000000e+00  4.30528386e-01  9.01389495e-01  4.62848408e-02]]\n",
      "[[2.44948974e+00 0.00000000e+00 0.00000000e+00 0.00000000e+00]\n",
      " [8.53424474e+00 2.39078768e+00 0.00000000e+00 0.00000000e+00]\n",
      " [0.00000000e+00 3.30871044e+00 7.01390558e-01 0.00000000e+00]\n",
      " [0.00000000e+00 0.00000000e+00 1.06242284e-01 1.30727101e-11]]\n",
      "[[ 0.40824829  0.81649658  0.40824829]\n",
      " [ 0.26344752 -0.53356459  0.80368167]\n",
      " [-0.87403017  0.22054967  0.43293083]\n",
      " [-0.45962579 -0.62978056 -0.62619532]]\n"
     ]
    }
   ],
   "source": [
    "#Golub-Kahan-Lanczos Bidiagonalization Procedure.   Lower-triangular\n",
    "import numpy as np\n",
    "import scipy.sparse as scsp\n",
    "U = np.matrix([])\n",
    "\n",
    "def GKL_(A):\n",
    "    A = np.matrix(A)\n",
    "    m,n = A.shape\n",
    "    \n",
    "    p = max(m, n)\n",
    "    alpha = np.zeros(p)\n",
    "    beta = np.zeros(p-1)\n",
    "    U = np.zeros((p, m))  # in fact it's U.H\n",
    "    V = np.zeros((p, n))  # in fact it's V.H\n",
    "    # Transposed matrices are used for easier slicing\n",
    "    U[0, 0] = 1\n",
    "    \n",
    "    for i in range(p):\n",
    "        V[i] = A.H@U[i] - beta[i-1]*V[i-1]\n",
    "        alpha[i] = np.linalg.norm(V[i])\n",
    "        V[i] /= alpha[i]\n",
    "\n",
    "        if i > p - 2: continue\n",
    "        U[i+1] = A@V[i] - alpha[i]*U[i]\n",
    "        beta[i] = np.linalg.norm(U[i+1])\n",
    "        U[i+1] /= beta[i]\n",
    "    U,V = map(np.matrix, (U, V))\n",
    "    B = scsp.diags((alpha, beta), [0, -1]).toarray()    \n",
    "    return U.H, B, V\n",
    "\n",
    "U, B, V = GKL_(np.array([[1, 2, 1], \n",
    "                           [2, 3, 2], \n",
    "                           [3, 5, 3],\n",
    "                           [2, 1, 5]]))\n",
    "print(U)\n",
    "print(B)\n",
    "print(V)\n",
    "                          "
   ]
  },
  {
   "cell_type": "code",
   "execution_count": 4,
   "metadata": {},
   "outputs": [
    {
     "data": {
      "text/plain": [
       "matrix([[1., 2., 1.],\n",
       "        [2., 3., 2.],\n",
       "        [3., 5., 3.],\n",
       "        [2., 1., 5.]])"
      ]
     },
     "execution_count": 4,
     "metadata": {},
     "output_type": "execute_result"
    }
   ],
   "source": [
    "U.dot(B.dot(V))"
   ]
  },
  {
   "cell_type": "markdown",
   "metadata": {},
   "source": [
    "## Three squares"
   ]
  },
  {
   "cell_type": "markdown",
   "metadata": {},
   "source": [
    "$$x_{k+1} = \\underset{y \\in R^n}{argmin}\\left(\\frac{L}{2}||y - x_k||^2 + \\frac{1}{2f_1(x_k)}\\left[f_1^2(x_k) + ||F(x_k) + F'(x_k)(y - x_k)||^2\\right]\\right) $$"
   ]
  },
  {
   "cell_type": "markdown",
   "metadata": {},
   "source": [
    "$$ T_{i_k} = (F'^TF + L2^{i_k}f_1(x))^{-1} \\cdot (L2^{i_k}f_1(x)x + F'^TF'x  - F'^TF)$$"
   ]
  },
  {
   "cell_type": "code",
   "execution_count": null,
   "metadata": {},
   "outputs": [],
   "source": []
  },
  {
   "cell_type": "code",
   "execution_count": null,
   "metadata": {},
   "outputs": [],
   "source": []
  },
  {
   "cell_type": "code",
   "execution_count": null,
   "metadata": {},
   "outputs": [],
   "source": []
  },
  {
   "cell_type": "markdown",
   "metadata": {},
   "source": [
    "### Example f(x) - Rozenbrock"
   ]
  },
  {
   "cell_type": "code",
   "execution_count": 5,
   "metadata": {},
   "outputs": [
    {
     "data": {
      "text/plain": [
       "array([-1.,  1.,  1.,  1.,  1.])"
      ]
     },
     "execution_count": 5,
     "metadata": {},
     "output_type": "execute_result"
    }
   ],
   "source": [
    "\"\"\"\n",
    "Function F and its gradient\n",
    "\"\"\"\n",
    "\n",
    "def F_Rozenbrock(x):\n",
    "    #print(F)\n",
    "    #F[0] = x[0] - 1\n",
    "    #print(F)\n",
    "    F = np.zeros_like(x)\n",
    "    for i, x_i in enumerate(x):\n",
    "        F[i] = x[i] - 1 if i == 0 else x_i + 1 - 2 * (x[i-1])**2\n",
    "        #print(i)\n",
    "        #F[i] = x_i + 1 - 2(x[i - 1])**2 + 1\n",
    "    #print (F)\n",
    "    return F\n",
    "\n",
    "def grad_F_Rozenbrock(x):\n",
    "    x_len = x.shape[0]\n",
    "    grad_f = np.eye(x.shape[0])\n",
    "    #print(grad_f)\n",
    "    for i, x_i in enumerate(x):\n",
    "        if(i+1 < x.shape[0]):\n",
    "            grad_f[i+1][i] = -4 * x_i\n",
    "    #print(grad_f)\n",
    "    return grad_f\n",
    "\n",
    "def psi_operator(y, x, f_x, L, grad_F):\n",
    "    psi_1 = 1/2 * np.linalg.norm(f_x, 2) + L/2 * np.linalg.norm(y - x, 2)**2\n",
    "    psi_2 = 1/(2 * np.linalg.norm(f_x, 2)) * np.linalg.norm(f_x + grad_F.dot(y - x), 2)**2\n",
    "    return psi_1 + psi_2\n",
    "    \n",
    "\n",
    "grad_F_Rozenbrock(np.array([1, 1, 1, 1, 1]))\n",
    "\n",
    "F_Rozenbrock(np.zeros((5)))"
   ]
  },
  {
   "cell_type": "code",
   "execution_count": 6,
   "metadata": {},
   "outputs": [
    {
     "name": "stdout",
     "output_type": "stream",
     "text": [
      "Maximum iteration exceeds!\n"
     ]
    }
   ],
   "source": [
    "import liboptpy.unconstr_solvers as methods\n",
    "import liboptpy.step_size as ss\n",
    "x0 = np.array([-1,1, 1, 1], dtype = np.float64)\n",
    "step_size = 0.1\n",
    "def F_Rozenbrock_for_gd(x):\n",
    "    return np.linalg.norm(F_Rozenbrock(x), 2)**2\n",
    "def grad_Rozenbrock_for_gd(x):\n",
    "    grad_f = np.zeros_like(x)\n",
    "    \n",
    "    for i, x_i in enumerate(x):\n",
    "        grad_f[i] = 1/2 * (x_i - 1) - 8 * x_i * (x[i + 1] - 2 * x_i**2 + 1) if i == 0 else 2 * (x_i - 2 * x[i - 1]**2 + 1) \n",
    "        - 8 * x_i * (x[i + 1] - 2 * x_i**2 + 1) if i < x.shape[0] - 1 else 2 * (x_i - 2 * x[i - 1]** 2 + 1)\n",
    "    \n",
    "    return grad_f\n",
    "\n",
    "\n",
    "grad_Rozenbrock_for_gd(np.array([1, 1, 1, 1, 1]))\n",
    "\n",
    "\n",
    "gradient_descent = methods.fo.GradientDescent(F_Rozenbrock_for_gd, grad_Rozenbrock_for_gd, ss.ConstantStepSize(step_size))\n",
    "sol = gradient_descent.solve(x0, tol = 1e-6, max_iter = 1000)"
   ]
  },
  {
   "cell_type": "code",
   "execution_count": 7,
   "metadata": {},
   "outputs": [],
   "source": [
    "x_convergence_gd = gradient_descent.get_convergence()"
   ]
  },
  {
   "cell_type": "code",
   "execution_count": 8,
   "metadata": {},
   "outputs": [],
   "source": [
    "#x_convergence_gd"
   ]
  },
  {
   "cell_type": "code",
   "execution_count": 9,
   "metadata": {},
   "outputs": [
    {
     "data": {
      "image/png": "[encoded data removed]",
      "text/plain": [
       "<Figure size 432x288 with 1 Axes>"
      ]
     },
     "metadata": {
      "needs_background": "light"
     },
     "output_type": "display_data"
    }
   ],
   "source": [
    "plt.plot([np.linalg.norm(grad_Rozenbrock_for_gd(x), 2) for x in x_convergence_gd])\n",
    "#plt.plot()\n",
    "\n",
    "plt.xlabel(\"Number of iterations\")\n",
    "plt.ylabel(r\"$||\\nabla f(x)||$\")\n",
    "plt.show()"
   ]
  },
  {
   "cell_type": "code",
   "execution_count": 10,
   "metadata": {},
   "outputs": [
    {
     "name": "stdout",
     "output_type": "stream",
     "text": [
      "Maximum iteration exceeds!\n"
     ]
    }
   ],
   "source": [
    "gradient_descent_Armijo = methods.fo.GradientDescent(F_Rozenbrock_for_gd, grad_Rozenbrock_for_gd, \n",
    "            ss.Backtracking(\"Armijo\", rho=0.5, beta=0.1, init_alpha=1.))\n",
    "sol = gradient_descent_Armijo.solve(x0, tol = 1e-6, max_iter = 1000)\n",
    "x_convergence_gd_Armijo = gradient_descent_Armijo.get_convergence()"
   ]
  },
  {
   "cell_type": "code",
   "execution_count": 11,
   "metadata": {},
   "outputs": [],
   "source": [
    "#x_convergence_gd_Armijo"
   ]
  },
  {
   "cell_type": "code",
   "execution_count": 12,
   "metadata": {},
   "outputs": [
    {
     "data": {
      "image/png": "[encoded data removed]",
      "text/plain": [
       "<Figure size 432x288 with 1 Axes>"
      ]
     },
     "metadata": {
      "needs_background": "light"
     },
     "output_type": "display_data"
    }
   ],
   "source": [
    "plt.plot([np.linalg.norm(grad_Rozenbrock_for_gd(x), 2) for x in x_convergence_gd_Armijo])\n",
    "#plt.plot()\n",
    "\n",
    "plt.xlabel(\"Number of iterations\")\n",
    "plt.ylabel(r\"$||\\nabla f(x)||$\")\n",
    "plt.show()"
   ]
  },
  {
   "cell_type": "code",
   "execution_count": 13,
   "metadata": {},
   "outputs": [],
   "source": [
    "def TS_relaxation(x, L,f, grad_f, U, B, V):\n",
    "    #i_arange = [0, 100]\n",
    "    \n",
    "    i = 0\n",
    "    while(True):\n",
    "        \n",
    "        T_1 = V.T.dot(np.linalg.inv(L * 2**(i) * np.linalg.norm(f, 2) * np.eye(x.shape[0]) + B.T.dot(B)).dot(V))\n",
    "        T_2 = V.T.dot(L * 2**(i) * np.linalg.norm(f, 2) * np.eye(x.shape[0]) + B.T.dot(B)).dot(V)\n",
    "        T_3 = grad_f.T.dot(f)\n",
    "        #print(T_1.shape)\n",
    "        #print(T_2.shape)\n",
    "        #print(T_3.shape)\n",
    "        T_i = T_1.dot((T_2.dot(x) - T_3).T)\n",
    "        \n",
    "        #print(np.linalg.norm(F_Rozenbrock(T_i), 2) <= psi_operator(T_i, x, 2**(i) * L, grad_f))\n",
    "        #print(i_arange)\n",
    "        if(np.linalg.norm(F_Rozenbrock(T_i), 2) <= psi_operator(T_i, x, f, 2**(i) * L, grad_f)):\n",
    "            #i_arange[1] = i\n",
    "            return T_i, 2**(i - 1) * L\n",
    "        else:\n",
    "            i += 1\n",
    "            #i_arange[0] = i\n",
    "        #if(i_arange[1] < 1e-7):\n",
    "        #    i_arange[1] = i_arange[0]\n",
    "        #i = (i_arange[1] + i_arange[0]) / 2\n",
    "        #i = round(i * 1e7) / 1e7\n",
    "        #if(math.floor(i_arange[1] * 1e6) == math.floor(i_arange[0] * 1e6)):\n",
    "            #return T_i, 2**(i - 1) * L\n",
    "        \n",
    "\n",
    "\n",
    "def three_squares(x_0, max_iter = 2):\n",
    "    #initialization\n",
    "    num_iter = 0\n",
    "    x_convergence = []\n",
    "    L_convergence = []\n",
    "    x = x_0\n",
    "    L = 1\n",
    "    L_convergence.append(L)\n",
    "    x_convergence.append(x)\n",
    "    while(num_iter < max_iter):\n",
    "        num_iter += 1\n",
    "        \n",
    "        grad_F = grad_F_Rozenbrock(x)\n",
    "        U_k, B_k, V_k = GKL_(grad_F)\n",
    "        \n",
    "        T, L = TS_relaxation(x, L, F_Rozenbrock(x), grad_F, U_k, B_k, V_k)\n",
    "        T = np.squeeze(np.asarray(T))\n",
    "        \n",
    "        x_convergence.append(T)\n",
    "        L_convergence.append(L)\n",
    "        \n",
    "        if(np.linalg.norm(x - T, 2) <= 1e-6):\n",
    "            return x_convergence, L_convergence, num_iter\n",
    "        \n",
    "        x = T\n",
    "    print()\n",
    "    return x_convergence, L_convergence, max_iter"
   ]
  },
  {
   "cell_type": "code",
   "execution_count": 14,
   "metadata": {},
   "outputs": [],
   "source": [
    "x_0 = np.array([-1, 1, 1, 1, 1, 1, 1, 1, 1])\n",
    "x_convergence, _, num_iter = three_squares(x_0, max_iter= 175)"
   ]
  },
  {
   "cell_type": "code",
   "execution_count": 15,
   "metadata": {
    "scrolled": true
   },
   "outputs": [],
   "source": [
    "#x_convergence"
   ]
  },
  {
   "cell_type": "code",
   "execution_count": 16,
   "metadata": {},
   "outputs": [
    {
     "data": {
      "text/plain": [
       "122"
      ]
     },
     "execution_count": 16,
     "metadata": {},
     "output_type": "execute_result"
    }
   ],
   "source": [
    "num_iter"
   ]
  },
  {
   "cell_type": "code",
   "execution_count": 17,
   "metadata": {},
   "outputs": [
    {
     "data": {
      "image/png": "[encoded data removed]",
      "text/plain": [
       "<Figure size 432x288 with 1 Axes>"
      ]
     },
     "metadata": {
      "needs_background": "light"
     },
     "output_type": "display_data"
    }
   ],
   "source": [
    "plt.plot([np.linalg.norm(F_Rozenbrock(x), 2) for x in x_convergence][:150])\n",
    "plt.xlabel(\"Number of iteration\")\n",
    "plt.ylabel(r\"$||F(x_k)||_2$\")\n",
    "plt.show()"
   ]
  },
  {
   "cell_type": "code",
   "execution_count": 18,
   "metadata": {},
   "outputs": [
    {
     "data": {
      "image/png": "[encoded data removed]",
      "text/plain": [
       "<Figure size 432x288 with 1 Axes>"
      ]
     },
     "metadata": {
      "needs_background": "light"
     },
     "output_type": "display_data"
    }
   ],
   "source": [
    "plt.plot([np.linalg.norm(x_convergence[i] - x_convergence[i - 1], 2) for i in range(1, len(x_convergence))])\n",
    "plt.xlabel(\"Number of iteration\")\n",
    "plt.ylabel(r\"$||F(x_k)||_2$\")\n",
    "plt.show()"
   ]
  },
  {
   "cell_type": "code",
   "execution_count": 19,
   "metadata": {},
   "outputs": [
    {
     "data": {
      "image/png": "[encoded data removed]",
      "text/plain": [
       "<Figure size 432x288 with 1 Axes>"
      ]
     },
     "metadata": {
      "needs_background": "light"
     },
     "output_type": "display_data"
    }
   ],
   "source": [
    "x_true = np.array([1, 1, 1, 1, 1, 1, 1, 1, 1])\n",
    "plt.plot([np.linalg.norm(x - x_true, 2)**2 for x in x_convergence])\n",
    "plt.xlabel(\"Number of iteration\")\n",
    "plt.ylabel(r\"$||x_k - x^*||_2$\")\n",
    "plt.show()"
   ]
  },
  {
   "cell_type": "code",
   "execution_count": 20,
   "metadata": {},
   "outputs": [
    {
     "data": {
      "image/png": "[encoded data removed]",
      "text/plain": [
       "<Figure size 432x288 with 1 Axes>"
      ]
     },
     "metadata": {
      "needs_background": "light"
     },
     "output_type": "display_data"
    }
   ],
   "source": [
    "x_true = np.array([1, 1, 1, 1, 1, 1, 1, 1, 1])\n",
    "plt.plot([np.linalg.norm(x - x_true, 2)**2 for x in x_convergence][120:])\n",
    "plt.plot([np.linalg.norm(x - x_true, 2)**2 for x in x_convergence][:20])\n",
    "plt.xlabel(\"Number of iteration\")\n",
    "plt.ylabel(r\"$||x_k - x^*||_2$\")\n",
    "plt.show()"
   ]
  },
  {
   "cell_type": "markdown",
   "metadata": {},
   "source": [
    "### Случай $n = 2$"
   ]
  },
  {
   "cell_type": "code",
   "execution_count": 21,
   "metadata": {},
   "outputs": [
    {
     "name": "stdout",
     "output_type": "stream",
     "text": [
      "Maximum iteration exceeds!\n"
     ]
    }
   ],
   "source": [
    "#Запуск алгоритмов\n",
    "x0 = np.array([-1, 1], dtype = float)\n",
    "x_true = np.array([1, 1], dtype = float)\n",
    "\n",
    "solution_gd = gradient_descent.solve(x0, tol = 1e-6, max_iter = 1000)\n",
    "x_convergence, _, num_iter = three_squares(x0, max_iter= 1000)"
   ]
  },
  {
   "cell_type": "code",
   "execution_count": 22,
   "metadata": {},
   "outputs": [
    {
     "name": "stdout",
     "output_type": "stream",
     "text": [
      " GDCS: $\\Delta x_k$ = 0.9305093871422988\n",
      "TS:$\\Delta x_k$ = 0.0\n"
     ]
    }
   ],
   "source": [
    "print(f\" GDCS: $\\Delta x_k$ = {np.linalg.norm(solution_gd - x_true, 2)}\")\n",
    "print(f\"TS:$\\Delta x_k$ = {np.linalg.norm(x_convergence[-1] - x_true, 2)}\")"
   ]
  },
  {
   "cell_type": "code",
   "execution_count": 23,
   "metadata": {},
   "outputs": [
    {
     "name": "stdout",
     "output_type": "stream",
     "text": [
      "GDCS: ||nabla f(x)|| = 1.4778433573565841\n"
     ]
    }
   ],
   "source": [
    "print(f\"GDCS: ||nabla f(x)|| = {np.linalg.norm(grad_Rozenbrock_for_gd(solution_gd))}\")"
   ]
  },
  {
   "cell_type": "code",
   "execution_count": 24,
   "metadata": {},
   "outputs": [
    {
     "name": "stdout",
     "output_type": "stream",
     "text": [
      "TS exceed 10\n"
     ]
    }
   ],
   "source": [
    "print(f\"TS exceed {num_iter}\")"
   ]
  },
  {
   "cell_type": "markdown",
   "metadata": {},
   "source": []
  },
  {
   "cell_type": "code",
   "execution_count": 25,
   "metadata": {},
   "outputs": [
    {
     "data": {
      "image/png": "[encoded data removed]",
      "text/plain": [
       "<Figure size 432x288 with 1 Axes>"
      ]
     },
     "metadata": {
      "needs_background": "light"
     },
     "output_type": "display_data"
    }
   ],
   "source": [
    "\"\"\"\n",
    "Здесь строится сходимость по градиенту\n",
    "\"\"\"\n",
    "\n",
    "\n",
    "x_convergence_gd = gradient_descent.get_convergence()\n",
    "\n",
    "plt.loglog([np.linalg.norm(grad_Rozenbrock_for_gd(x), 2) for x in x_convergence_gd], label = \"GDCS\")\n",
    "plt.loglog([np.linalg.norm(grad_Rozenbrock_for_gd(x), 2) for x in x_convergence], label = \"TS\")\n",
    "#plt.plot()\n",
    "\n",
    "plt.xlabel(\"Number of iterations\")\n",
    "plt.ylabel(r\"$||\\nabla f(x)||$\")\n",
    "plt.grid()\n",
    "plt.legend()\n",
    "#plt.show()\n",
    "plt.savefig(\"n2_roz_nabla.pdf\")"
   ]
  },
  {
   "cell_type": "code",
   "execution_count": 26,
   "metadata": {},
   "outputs": [
    {
     "data": {
      "image/png": "[encoded data removed]",
      "text/plain": [
       "<Figure size 432x288 with 1 Axes>"
      ]
     },
     "metadata": {
      "needs_background": "light"
     },
     "output_type": "display_data"
    }
   ],
   "source": [
    "\"\"\"\n",
    "Здесь строится сходимость по аргументу\n",
    "\"\"\"\n",
    "\n",
    "x_convergence_gd = gradient_descent.get_convergence()\n",
    "\n",
    "plt.loglog([np.linalg.norm(x - x_true, 2) for x in x_convergence_gd], label = \"GDCS\")\n",
    "plt.loglog([np.linalg.norm(x - x_true, 2) for x in x_convergence], label = \"TS\")\n",
    "#plt.plot()\n",
    "\n",
    "plt.xlabel(\"Number of iterations\")\n",
    "plt.ylabel(r\"$\\Delta x_k$\")\n",
    "plt.grid()\n",
    "plt.legend()\n",
    "#plt.show()\n",
    "plt.savefig(\"n2_roz_delk.pdf\")"
   ]
  },
  {
   "cell_type": "code",
   "execution_count": 27,
   "metadata": {},
   "outputs": [
    {
     "name": "stdout",
     "output_type": "stream",
     "text": [
      "Maximum iteration exceeds!\n",
      "Maximum iteration exceeds!\n",
      "Maximum iteration exceeds!\n",
      "Maximum iteration exceeds!\n",
      "Maximum iteration exceeds!\n",
      "Maximum iteration exceeds!\n",
      "Maximum iteration exceeds!\n",
      "Maximum iteration exceeds!\n",
      "Maximum iteration exceeds!\n",
      "Maximum iteration exceeds!\n",
      "Maximum iteration exceeds!\n",
      "Maximum iteration exceeds!\n",
      "Maximum iteration exceeds!\n",
      "Maximum iteration exceeds!\n",
      "Maximum iteration exceeds!\n",
      "Maximum iteration exceeds!\n",
      "Maximum iteration exceeds!\n",
      "Maximum iteration exceeds!\n",
      "Maximum iteration exceeds!\n",
      "Maximum iteration exceeds!\n",
      "Maximum iteration exceeds!\n",
      "Maximum iteration exceeds!\n",
      "Maximum iteration exceeds!\n",
      "Maximum iteration exceeds!\n",
      "Maximum iteration exceeds!\n",
      "Maximum iteration exceeds!\n",
      "Maximum iteration exceeds!\n",
      "Maximum iteration exceeds!\n",
      "Maximum iteration exceeds!\n",
      "Maximum iteration exceeds!\n",
      "Maximum iteration exceeds!\n",
      "Maximum iteration exceeds!\n",
      "Maximum iteration exceeds!\n",
      "Maximum iteration exceeds!\n",
      "Maximum iteration exceeds!\n",
      "Maximum iteration exceeds!\n",
      "Maximum iteration exceeds!\n",
      "Maximum iteration exceeds!\n",
      "Maximum iteration exceeds!\n",
      "Maximum iteration exceeds!\n",
      "Maximum iteration exceeds!\n",
      "Maximum iteration exceeds!\n",
      "Maximum iteration exceeds!\n",
      "Maximum iteration exceeds!\n",
      "Maximum iteration exceeds!\n",
      "Maximum iteration exceeds!\n",
      "Maximum iteration exceeds!\n",
      "Maximum iteration exceeds!\n",
      "Maximum iteration exceeds!\n",
      "Maximum iteration exceeds!\n",
      "Maximum iteration exceeds!\n",
      "Maximum iteration exceeds!\n",
      "Maximum iteration exceeds!\n",
      "Maximum iteration exceeds!\n",
      "Maximum iteration exceeds!\n",
      "Maximum iteration exceeds!\n",
      "Maximum iteration exceeds!\n",
      "Maximum iteration exceeds!\n",
      "Maximum iteration exceeds!\n",
      "Maximum iteration exceeds!\n",
      "Maximum iteration exceeds!\n",
      "Maximum iteration exceeds!\n",
      "Maximum iteration exceeds!\n",
      "Maximum iteration exceeds!\n",
      "Maximum iteration exceeds!\n",
      "Maximum iteration exceeds!\n",
      "Maximum iteration exceeds!\n",
      "Maximum iteration exceeds!\n",
      "Maximum iteration exceeds!\n",
      "Maximum iteration exceeds!\n",
      "Maximum iteration exceeds!\n",
      "Maximum iteration exceeds!\n",
      "Maximum iteration exceeds!\n",
      "Maximum iteration exceeds!\n",
      "Maximum iteration exceeds!\n",
      "Maximum iteration exceeds!\n",
      "Maximum iteration exceeds!\n",
      "Maximum iteration exceeds!\n",
      "Maximum iteration exceeds!\n",
      "Maximum iteration exceeds!\n",
      "Maximum iteration exceeds!\n",
      "44.5 ms ± 4.56 ms per loop (mean ± std. dev. of 7 runs, 10 loops each)\n",
      "7.76 ms ± 397 µs per loop (mean ± std. dev. of 7 runs, 100 loops each)\n"
     ]
    }
   ],
   "source": [
    "#Время работы\n",
    "%timeit gradient_descent.solve(x0, tol = 1e-6, max_iter = 1000)\n",
    "%timeit three_squares(x0, max_iter= 1000)"
   ]
  },
  {
   "cell_type": "markdown",
   "metadata": {},
   "source": [
    "### Случай $n = 4$"
   ]
  },
  {
   "cell_type": "code",
   "execution_count": null,
   "metadata": {},
   "outputs": [],
   "source": []
  },
  {
   "cell_type": "code",
   "execution_count": null,
   "metadata": {},
   "outputs": [],
   "source": []
  },
  {
   "cell_type": "code",
   "execution_count": null,
   "metadata": {},
   "outputs": [],
   "source": []
  },
  {
   "cell_type": "markdown",
   "metadata": {},
   "source": [
    "### Случай $n= 9$"
   ]
  },
  {
   "cell_type": "code",
   "execution_count": 28,
   "metadata": {},
   "outputs": [
    {
     "name": "stdout",
     "output_type": "stream",
     "text": [
      "Maximum iteration exceeds!\n"
     ]
    }
   ],
   "source": [
    "#Запуск алгоритмов\n",
    "x0 = np.array([-1, 1, 1, 1, 1, 1, 1, 1, 1], dtype = float)\n",
    "x_true = np.array([1, 1, 1, 1, 1, 1, 1, 1, 1], dtype = float)\n",
    "\n",
    "solution_gd = gradient_descent.solve(x0, tol = 1e-6, max_iter = 1000)\n",
    "x_convergence, _, num_iter = three_squares(x0, max_iter= 1000)"
   ]
  },
  {
   "cell_type": "code",
   "execution_count": 29,
   "metadata": {},
   "outputs": [
    {
     "data": {
      "text/plain": [
       "array([ 0.67037761,  0.12982944, -0.97724683,  0.90526856,  0.64093613,\n",
       "       -0.17894676, -0.93599945,  0.75217191,  0.13153119])"
      ]
     },
     "execution_count": 29,
     "metadata": {},
     "output_type": "execute_result"
    }
   ],
   "source": [
    "solution_gd"
   ]
  },
  {
   "cell_type": "code",
   "execution_count": 30,
   "metadata": {},
   "outputs": [
    {
     "data": {
      "text/plain": [
       "122"
      ]
     },
     "execution_count": 30,
     "metadata": {},
     "output_type": "execute_result"
    }
   ],
   "source": [
    "#Сколько сходились квадраты\n",
    "num_iter"
   ]
  },
  {
   "cell_type": "code",
   "execution_count": 31,
   "metadata": {},
   "outputs": [
    {
     "name": "stdout",
     "output_type": "stream",
     "text": [
      " GDCS: $\\Delta x_k$ = 3.2965011450878534\n",
      "TS:$\\Delta x_k$ = 7.683411240577698e-09\n"
     ]
    }
   ],
   "source": [
    "#Полученное решение\n",
    "print(f\" GDCS: $\\Delta x_k$ = {np.linalg.norm(solution_gd - x_true, 2)}\")\n",
    "print(f\"TS:$\\Delta x_k$ = {np.linalg.norm(x_convergence[-1] - x_true, 2)}\")"
   ]
  },
  {
   "cell_type": "code",
   "execution_count": 32,
   "metadata": {},
   "outputs": [
    {
     "name": "stdout",
     "output_type": "stream",
     "text": [
      "GDCS: ||nabla f(x)|| = 1.4780418033980653\n",
      "TS: ||nabla f(x)|| = 6.679764681968105e-08\n"
     ]
    }
   ],
   "source": [
    "#Итоговый градиент\n",
    "print(f\"GDCS: ||nabla f(x)|| = {np.linalg.norm(grad_Rozenbrock_for_gd(solution_gd))}\")\n",
    "print(f\"TS: ||nabla f(x)|| = {np.linalg.norm(grad_Rozenbrock_for_gd(x_convergence[-1]))}\")"
   ]
  },
  {
   "cell_type": "code",
   "execution_count": 33,
   "metadata": {},
   "outputs": [
    {
     "data": {
      "image/png": "[encoded data removed]",
      "text/plain": [
       "<Figure size 432x288 with 1 Axes>"
      ]
     },
     "metadata": {
      "needs_background": "light"
     },
     "output_type": "display_data"
    }
   ],
   "source": [
    "\"\"\"\n",
    "Здесь строится сходимость по градиенту\n",
    "\"\"\"\n",
    "\n",
    "x_convergence_gd = gradient_descent.get_convergence()\n",
    "\n",
    "plt.loglog([np.linalg.norm(grad_Rozenbrock_for_gd(x), 2) for x in x_convergence_gd], label = \"GDCS\")\n",
    "plt.loglog([np.linalg.norm(grad_Rozenbrock_for_gd(x), 2) for x in x_convergence], label = \"TS\")\n",
    "#plt.plot()\n",
    "\n",
    "plt.xlabel(\"Number of iterations\")\n",
    "plt.ylabel(r\"$||\\nabla f(x)||$\")\n",
    "plt.grid()\n",
    "plt.legend()\n",
    "#plt.show()\n",
    "plt.savefig(\"n9_roz_nabla.pdf\")"
   ]
  },
  {
   "cell_type": "code",
   "execution_count": 34,
   "metadata": {},
   "outputs": [
    {
     "data": {
      "image/png": "[encoded data removed]",
      "text/plain": [
       "<Figure size 432x288 with 1 Axes>"
      ]
     },
     "metadata": {
      "needs_background": "light"
     },
     "output_type": "display_data"
    }
   ],
   "source": [
    "\"\"\"\n",
    "Здесь строится сходимость по аргументу\n",
    "\"\"\"\n",
    "\n",
    "x_convergence_gd = gradient_descent.get_convergence()\n",
    "\n",
    "plt.loglog([np.linalg.norm(x - x_true, 2) for x in x_convergence_gd], label = \"GDCS\")\n",
    "plt.loglog([np.linalg.norm(x - x_true, 2) for x in x_convergence], label = \"TS\")\n",
    "#plt.plot()\n",
    "\n",
    "plt.xlabel(\"Number of iterations\")\n",
    "plt.ylabel(r\"$\\Delta x_k$\")\n",
    "plt.grid()\n",
    "plt.legend()\n",
    "#plt.show()\n",
    "plt.savefig(\"n9_roz_delk.pdf\")"
   ]
  },
  {
   "cell_type": "code",
   "execution_count": 35,
   "metadata": {},
   "outputs": [
    {
     "data": {
      "image/png": "[encoded data removed]",
      "text/plain": [
       "<Figure size 432x288 with 1 Axes>"
      ]
     },
     "metadata": {
      "needs_background": "light"
     },
     "output_type": "display_data"
    }
   ],
   "source": [
    "x_convergence_gd = gradient_descent.get_convergence()\n",
    "\n",
    "plt.loglog([np.linalg.norm(F_Rozenbrock(x), 2) for x in x_convergence_gd], label = \"GDCS\")\n",
    "plt.loglog([np.linalg.norm(F_Rozenbrock(x), 2) for x in x_convergence], label = \"TS\")\n",
    "#plt.plot()\n",
    "\n",
    "plt.xlabel(\"Number of iterations\")\n",
    "plt.ylabel(r\"$||F(x)||$\")\n",
    "plt.grid()\n",
    "plt.legend()\n",
    "#plt.show()\n",
    "plt.savefig(\"n9_roz_func.pdf\")"
   ]
  },
  {
   "cell_type": "code",
   "execution_count": 36,
   "metadata": {},
   "outputs": [
    {
     "name": "stdout",
     "output_type": "stream",
     "text": [
      "Maximum iteration exceeds!\n",
      "Maximum iteration exceeds!\n",
      "Maximum iteration exceeds!\n",
      "Maximum iteration exceeds!\n",
      "Maximum iteration exceeds!\n",
      "Maximum iteration exceeds!\n",
      "Maximum iteration exceeds!\n",
      "Maximum iteration exceeds!\n",
      "Maximum iteration exceeds!\n",
      "Maximum iteration exceeds!\n",
      "Maximum iteration exceeds!\n",
      "Maximum iteration exceeds!\n",
      "Maximum iteration exceeds!\n",
      "Maximum iteration exceeds!\n",
      "Maximum iteration exceeds!\n",
      "Maximum iteration exceeds!\n",
      "Maximum iteration exceeds!\n",
      "Maximum iteration exceeds!\n",
      "Maximum iteration exceeds!\n",
      "Maximum iteration exceeds!\n",
      "Maximum iteration exceeds!\n",
      "Maximum iteration exceeds!\n",
      "Maximum iteration exceeds!\n",
      "Maximum iteration exceeds!\n",
      "Maximum iteration exceeds!\n",
      "Maximum iteration exceeds!\n",
      "Maximum iteration exceeds!\n",
      "Maximum iteration exceeds!\n",
      "Maximum iteration exceeds!\n",
      "Maximum iteration exceeds!\n",
      "Maximum iteration exceeds!\n",
      "Maximum iteration exceeds!\n",
      "Maximum iteration exceeds!\n",
      "Maximum iteration exceeds!\n",
      "Maximum iteration exceeds!\n",
      "Maximum iteration exceeds!\n",
      "Maximum iteration exceeds!\n",
      "Maximum iteration exceeds!\n",
      "Maximum iteration exceeds!\n",
      "Maximum iteration exceeds!\n",
      "Maximum iteration exceeds!\n",
      "Maximum iteration exceeds!\n",
      "Maximum iteration exceeds!\n",
      "Maximum iteration exceeds!\n",
      "Maximum iteration exceeds!\n",
      "Maximum iteration exceeds!\n",
      "Maximum iteration exceeds!\n",
      "Maximum iteration exceeds!\n",
      "Maximum iteration exceeds!\n",
      "Maximum iteration exceeds!\n",
      "Maximum iteration exceeds!\n",
      "Maximum iteration exceeds!\n",
      "Maximum iteration exceeds!\n",
      "Maximum iteration exceeds!\n",
      "Maximum iteration exceeds!\n",
      "Maximum iteration exceeds!\n",
      "Maximum iteration exceeds!\n",
      "Maximum iteration exceeds!\n",
      "Maximum iteration exceeds!\n",
      "Maximum iteration exceeds!\n",
      "Maximum iteration exceeds!\n",
      "Maximum iteration exceeds!\n",
      "Maximum iteration exceeds!\n",
      "Maximum iteration exceeds!\n",
      "Maximum iteration exceeds!\n",
      "Maximum iteration exceeds!\n",
      "Maximum iteration exceeds!\n",
      "Maximum iteration exceeds!\n",
      "Maximum iteration exceeds!\n",
      "Maximum iteration exceeds!\n",
      "Maximum iteration exceeds!\n",
      "Maximum iteration exceeds!\n",
      "Maximum iteration exceeds!\n",
      "Maximum iteration exceeds!\n",
      "Maximum iteration exceeds!\n",
      "Maximum iteration exceeds!\n",
      "Maximum iteration exceeds!\n",
      "Maximum iteration exceeds!\n",
      "Maximum iteration exceeds!\n",
      "Maximum iteration exceeds!\n",
      "Maximum iteration exceeds!\n",
      "109 ms ± 2.2 ms per loop (mean ± std. dev. of 7 runs, 10 loops each)\n",
      "212 ms ± 5.95 ms per loop (mean ± std. dev. of 7 runs, 1 loop each)\n"
     ]
    }
   ],
   "source": [
    "%timeit gradient_descent.solve(x0, tol = 1e-6, max_iter = 1000)\n",
    "%timeit three_squares(x0, max_iter= 1000)"
   ]
  },
  {
   "cell_type": "markdown",
   "metadata": {},
   "source": [
    "## Normalize Squares"
   ]
  },
  {
   "cell_type": "code",
   "execution_count": 37,
   "metadata": {},
   "outputs": [],
   "source": [
    "def Normalized_f(x):\n",
    "    return 1/x.shape[0]**(0.5) * F_Rozenbrock(x)\n"
   ]
  },
  {
   "cell_type": "code",
   "execution_count": null,
   "metadata": {},
   "outputs": [],
   "source": []
  },
  {
   "cell_type": "code",
   "execution_count": null,
   "metadata": {},
   "outputs": [],
   "source": []
  },
  {
   "cell_type": "code",
   "execution_count": null,
   "metadata": {},
   "outputs": [],
   "source": []
  },
  {
   "cell_type": "markdown",
   "metadata": {},
   "source": [
    "## Stochastic Squares"
   ]
  },
  {
   "cell_type": "code",
   "execution_count": null,
   "metadata": {},
   "outputs": [],
   "source": []
  }
 ],
 "metadata": {
  "kernelspec": {
   "display_name": "Python 3",
   "language": "python",
   "name": "python3"
  },
  "language_info": {
   "codemirror_mode": {
    "name": "ipython",
    "version": 3
   },
   "file_extension": ".py",
   "mimetype": "text/x-python",
   "name": "python",
   "nbconvert_exporter": "python",
   "pygments_lexer": "ipython3",
   "version": "3.7.3"
  }
 },
 "nbformat": 4,
 "nbformat_minor": 2
}

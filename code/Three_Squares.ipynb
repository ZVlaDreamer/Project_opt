{
 "cells": [
  {
   "cell_type": "code",
   "execution_count": 1,
   "metadata": {},
   "outputs": [
    {
     "name": "stdout",
     "output_type": "stream",
     "text": [
      "[[1 2]\n",
      " [2 3]\n",
      " [3 5]]\n",
      "V [[1. 0.]\n",
      " [0. 1.]]\n",
      "U [[ 0.26726124  0.77151675]\n",
      " [ 0.53452248 -0.6172134 ]\n",
      " [ 0.80178373  0.15430335]]\n",
      "ULV [[1. 2.]\n",
      " [2. 3.]\n",
      " [3. 5.]]\n",
      "[[ 1.00000000e+00  5.20361465e-17 -3.73145497e-16 -3.59626182e-13]\n",
      " [ 0.00000000e+00  4.78364873e-01 -1.84393365e-01 -8.58583796e-01]\n",
      " [ 0.00000000e+00  7.65383797e-01 -3.91785738e-01  5.10579650e-01]\n",
      " [ 0.00000000e+00  4.30528386e-01  9.01389495e-01  4.62848408e-02]]\n",
      "[[2.44948974e+00 0.00000000e+00 0.00000000e+00 0.00000000e+00]\n",
      " [8.53424474e+00 2.39078768e+00 0.00000000e+00 0.00000000e+00]\n",
      " [0.00000000e+00 3.30871044e+00 7.01390558e-01 0.00000000e+00]\n",
      " [0.00000000e+00 0.00000000e+00 1.06242284e-01 1.30727101e-11]]\n",
      "[[ 0.40824829  0.81649658  0.40824829]\n",
      " [ 0.26344752 -0.53356459  0.80368167]\n",
      " [-0.87403017  0.22054967  0.43293083]\n",
      " [-0.45962579 -0.62978056 -0.62619532]]\n"
     ]
    }
   ],
   "source": [
    "import matplotlib.pyplot as plt\n",
    "plt.rc(\"text\", usetex=True)\n",
    "import ipywidgets as ipywidg\n",
    "import numpy as np\n",
    "import liboptpy.unconstr_solvers as methods\n",
    "import liboptpy.step_size as ss\n",
    "import math\n",
    "import time\n",
    "import seaborn as sns\n",
    "import scipy.optimize as optimize\n",
    "%matplotlib inline\n",
    "import matplotlib.pylab as pylab\n",
    "plt.rcParams['lines.linewidth'] = 3\n",
    "plt.rcParams['lines.markersize'] = 12\n",
    "plt.rcParams['xtick.labelsize'] = 24\n",
    "plt.rcParams['ytick.labelsize'] = 24\n",
    "plt.rcParams['legend.fontsize'] = 40\n",
    "plt.rcParams['axes.titlesize']=36\n",
    "plt.rcParams['axes.labelsize']=24\n",
    "plt.rcParams['figure.figsize'] = (24.0, 12.0)\n",
    "plt.rcParams['font.size'] = 40\n",
    "\n",
    "import os\n",
    "\n",
    "\n",
    "#My modules\n",
    "from Oracle_problems import *\n",
    "from GKLBi_diagonalization import GKL_\n",
    "from plotting import *\n",
    "from Current_oracle import *"
   ]
  },
  {
   "cell_type": "markdown",
   "metadata": {},
   "source": [
    "Внизу приведены примеры для нескольких случаев"
   ]
  },
  {
   "cell_type": "markdown",
   "metadata": {},
   "source": [
    "## Three squares"
   ]
  },
  {
   "cell_type": "markdown",
   "metadata": {},
   "source": [
    "$$x_{k+1} = \\underset{y \\in R^n}{argmin}\\left(\\frac{L}{2}||y - x_k||^2 + \\frac{1}{2f_1(x_k)}\\left[f_1^2(x_k) + ||F(x_k) + F'(x_k)(y - x_k)||^2\\right]\\right) $$"
   ]
  },
  {
   "cell_type": "markdown",
   "metadata": {},
   "source": [
    "$$ T_{i_k} = (F'^TF + L2^{i_k}f_1(x))^{-1} \\cdot (L2^{i_k}f_1(x)x + F'^TF'x  - F'^TF)$$"
   ]
  },
  {
   "cell_type": "code",
   "execution_count": 2,
   "metadata": {},
   "outputs": [],
   "source": [
    "def TS_relaxation(x, L,f, grad_f, U, B, V):\n",
    "    #i_arange = [0, 100]\n",
    "    \n",
    "    i = 0\n",
    "    while(True):\n",
    "        \n",
    "        T_1 = V.T.dot(np.linalg.inv(L * 2**(i) * np.linalg.norm(f, 2) * np.eye(x.shape[0]) + B.T.dot(B)).dot(V))\n",
    "        T_2 = V.T.dot(L * 2**(i) * np.linalg.norm(f, 2) * np.eye(x.shape[0]) + B.T.dot(B)).dot(V)\n",
    "        T_3 = grad_f.T.dot(f)\n",
    "        #print(T_1.shape)\n",
    "        #print(T_2.shape)\n",
    "        #print(T_3.shape)\n",
    "        T_i = T_1.dot((T_2.dot(x) - T_3).T)\n",
    "        \n",
    "        #print(np.linalg.norm(F_Rozenbrock(T_i), 2) <= psi_operator(T_i, x, 2**(i) * L, grad_f))\n",
    "        #print(i_arange)\n",
    "        if(np.linalg.norm(F_Rozenbrock(T_i), 2) <= psi_operator(T_i, x, f, 2**(i) * L, grad_f)):\n",
    "            #i_arange[1] = i\n",
    "            return T_i, 2**(i - 1) * L\n",
    "        else:\n",
    "            i += 1\n",
    "            #i_arange[0] = i\n",
    "        #if(i_arange[1] < 1e-7):\n",
    "        #    i_arange[1] = i_arange[0]\n",
    "        #i = (i_arange[1] + i_arange[0]) / 2\n",
    "        #i = round(i * 1e7) / 1e7\n",
    "        #if(math.floor(i_arange[1] * 1e6) == math.floor(i_arange[0] * 1e6)):\n",
    "            #return T_i, 2**(i - 1) * L\n",
    "        \n",
    "\n",
    "\n",
    "def three_squares(x_0, max_iter = 2):\n",
    "    #initialization\n",
    "    start_time1 = time.time()\n",
    "    num_iter = 0\n",
    "    x_convergence = []\n",
    "    L_convergence = []\n",
    "    x = x_0\n",
    "    L = 1\n",
    "    time_convergence = []\n",
    "    time_convergence.append(0)\n",
    "    L_convergence.append(L)\n",
    "    x_convergence.append(x)\n",
    "    while(num_iter < max_iter):\n",
    "        num_iter += 1\n",
    "        \n",
    "        grad_F = grad_F_Rozenbrock(x)\n",
    "        U_k, B_k, V_k = GKL_(grad_F)\n",
    "        \n",
    "        T, L = TS_relaxation(x, L, F_Rozenbrock(x), grad_F, U_k, B_k, V_k)\n",
    "        T = np.squeeze(np.asarray(T))\n",
    "        \n",
    "        x_convergence.append(T)\n",
    "        L_convergence.append(L)\n",
    "        \n",
    "        if(np.linalg.norm(x - T, 2) <= 1e-6):\n",
    "            return x_convergence, L_convergence, time_convergence, num_iter\n",
    "        \n",
    "        x = T\n",
    "        cur_time1 = time.time()\n",
    "        time_convergence.append(cur_time1 - start_time1)\n",
    "    #print()\n",
    "    time_convergence.append(cur_time1 - start_time1)\n",
    "    return x_convergence, L_convergence, time_convergence, max_iter"
   ]
  },
  {
   "cell_type": "code",
   "execution_count": null,
   "metadata": {},
   "outputs": [],
   "source": []
  },
  {
   "cell_type": "code",
   "execution_count": null,
   "metadata": {},
   "outputs": [],
   "source": []
  },
  {
   "cell_type": "markdown",
   "metadata": {},
   "source": [
    "### Example f(x) - Rozenbrock"
   ]
  },
  {
   "cell_type": "code",
   "execution_count": 3,
   "metadata": {},
   "outputs": [
    {
     "data": {
      "text/plain": [
       "array([-1.,  1.,  1.,  1.,  1.])"
      ]
     },
     "execution_count": 3,
     "metadata": {},
     "output_type": "execute_result"
    }
   ],
   "source": [
    "\"\"\"\n",
    "Function F and its gradient\n",
    "\"\"\"\n",
    "\n",
    "\n",
    "    \n",
    "\n",
    "grad_F_Rozenbrock(np.array([1, 1, 1, 1, 1]))\n",
    "\n",
    "F_Rozenbrock(np.zeros((5)))"
   ]
  },
  {
   "cell_type": "code",
   "execution_count": 4,
   "metadata": {},
   "outputs": [
    {
     "name": "stdout",
     "output_type": "stream",
     "text": [
      "Maximum iteration exceeds!\n"
     ]
    }
   ],
   "source": [
    "import liboptpy.unconstr_solvers as methods\n",
    "import liboptpy.step_size as ss\n",
    "x0 = np.array([-1,1, 1, 1], dtype = np.float64)\n",
    "step_size = 0.1\n",
    "\n",
    "\n",
    "\n",
    "grad_Rozenbrock_for_gd(np.array([1, 1, 1, 1, 1]))\n",
    "\n",
    "\n",
    "gradient_descent = methods.fo.GradientDescent(F_Rozenbrock_for_gd, grad_Rozenbrock_for_gd, ss.ConstantStepSize(step_size))\n",
    "sol = gradient_descent.solve(x0, tol = 1e-6, max_iter = 1000)"
   ]
  },
  {
   "cell_type": "code",
   "execution_count": 5,
   "metadata": {},
   "outputs": [],
   "source": [
    "methods.fo.GradientDescent?"
   ]
  },
  {
   "cell_type": "code",
   "execution_count": 6,
   "metadata": {},
   "outputs": [],
   "source": [
    "x_convergence_gd = gradient_descent.get_convergence()"
   ]
  },
  {
   "cell_type": "code",
   "execution_count": 7,
   "metadata": {},
   "outputs": [],
   "source": [
    "#x_convergence_gd"
   ]
  },
  {
   "cell_type": "code",
   "execution_count": 8,
   "metadata": {},
   "outputs": [
    {
     "name": "stdout",
     "output_type": "stream",
     "text": [
      "Maximum iteration exceeds!\n"
     ]
    }
   ],
   "source": [
    "gradient_descent_Armijo = methods.fo.GradientDescent(F_Rozenbrock_for_gd, grad_Rozenbrock_for_gd, \n",
    "            ss.Backtracking(\"Armijo\", rho=0.5, beta=0.1, init_alpha=1.))\n",
    "sol = gradient_descent_Armijo.solve(x0, tol = 1e-6, max_iter = 1000)\n",
    "x_convergence_gd_Armijo = gradient_descent_Armijo.get_convergence()"
   ]
  },
  {
   "cell_type": "code",
   "execution_count": 9,
   "metadata": {},
   "outputs": [],
   "source": [
    "#x_convergence_gd_Armijo"
   ]
  },
  {
   "cell_type": "markdown",
   "metadata": {},
   "source": [
    "### Levenberg Marquardt "
   ]
  },
  {
   "cell_type": "code",
   "execution_count": null,
   "metadata": {},
   "outputs": [],
   "source": []
  },
  {
   "cell_type": "code",
   "execution_count": 10,
   "metadata": {},
   "outputs": [],
   "source": [
    "def Levenberg_Marquardt(f, Jac, x, lam, rho_min, rho_max, tol, max_iter = 100):\n",
    "    start_time1 = time.time()\n",
    "    n = x.shape[0]\n",
    "    t = 1e-3\n",
    "    conv = [x]\n",
    "    time_convergence = [0]\n",
    "    rho_max = 2\n",
    "    k = 0\n",
    "    while True:\n",
    "        k += 1\n",
    "        J = Jac(x) #Sooner will be added function of Jac\n",
    "        F = f(x)\n",
    "        A = J.T.dot(J)\n",
    "        rho_min = t * np.amax(np.diagonal(A))\n",
    "        while True:\n",
    "            p = np.linalg.solve(J.T.dot(J) + lam * np.eye(n), -J.T.dot(F)) # Calculate the direction\n",
    "            #alpha = StepSizeSelection(x, p, f, J)\n",
    "            \n",
    "            x_next = x + p\n",
    "            \n",
    "            F_next = f(x_next)\n",
    "            \n",
    "            if np.linalg.norm(F_next) < np.linalg.norm(F):\n",
    "                lam *= rho_min\n",
    "                \n",
    "                x = x_next\n",
    "                conv.append(x)\n",
    "                \n",
    "                break\n",
    "            else:\n",
    "                lam *= rho_max\n",
    "            if lam>25000: #Костыль на переполнение\n",
    "                x = x_next\n",
    "                conv.append(x)\n",
    "                break\n",
    "        if np.linalg.norm(F) - np.linalg.norm(F_next) < tol:\n",
    "            \n",
    "            break\n",
    "        if k >= max_iter:\n",
    "            print(\"Max_iter reached\")\n",
    "            break\n",
    "        cur_time1 = time.time()\n",
    "        time_convergence.append(cur_time1 - start_time1)\n",
    "    cur_time1 = time.time()\n",
    "    time_convergence.append(cur_time1 - start_time1)\n",
    "    return conv, time_convergence"
   ]
  },
  {
   "cell_type": "code",
   "execution_count": null,
   "metadata": {},
   "outputs": [],
   "source": []
  },
  {
   "cell_type": "code",
   "execution_count": 11,
   "metadata": {},
   "outputs": [],
   "source": [
    "n = 4\n",
    "lam=0.1\n",
    "x_0 = np.ones(n)\n",
    "x_0[0] = -1\n",
    "x_true = np.ones(n)\n",
    "tol=1e-25\n",
    "x_convergence_LM=Levenberg_Marquardt(F_Rozenbrock, grad_F_Rozenbrock, x_0, lam = lam, rho_min = None, rho_max = None, tol = tol, max_iter = 10000) #*args = [n, m], kwargs)"
   ]
  },
  {
   "cell_type": "markdown",
   "metadata": {},
   "source": []
  },
  {
   "cell_type": "code",
   "execution_count": 12,
   "metadata": {},
   "outputs": [],
   "source": [
    "n = 7\n",
    "lam=0.1\n",
    "x_0 = np.ones(n)\n",
    "x_0[0] = -1\n",
    "x_true = np.ones(n)\n",
    "tol=1e-25\n",
    "x_convergence_LM=Levenberg_Marquardt(F_Rozenbrock, grad_F_Rozenbrock, x_0, lam = lam, \n",
    "                                     rho_min = None, rho_max = None, tol = tol, max_iter = 10000) #*args = [n, m], kwargs)"
   ]
  },
  {
   "cell_type": "code",
   "execution_count": null,
   "metadata": {},
   "outputs": [],
   "source": []
  },
  {
   "cell_type": "code",
   "execution_count": null,
   "metadata": {},
   "outputs": [],
   "source": [
    "n = 9\n",
    "lam=0.1\n",
    "x_0 = np.ones(n)\n",
    "x_0[0] = -1\n",
    "x_true = np.ones(n)\n",
    "tol=1e-25\n",
    "x_convergence_LM=Levenberg_Marquardt(F_Rozenbrock, grad_F_Rozenbrock, x_0, lam = lam, \n",
    "                                     rho_min = None, rho_max = None, tol = tol, max_iter = 10000) #*args = [n, m], kwargs)"
   ]
  },
  {
   "cell_type": "code",
   "execution_count": null,
   "metadata": {},
   "outputs": [],
   "source": [
    "plt.loglog([np.linalg.norm(F_Rozenbrock(x) - F_Rozenbrock(x_true)) for x in x_convergence_LM])"
   ]
  },
  {
   "cell_type": "code",
   "execution_count": null,
   "metadata": {},
   "outputs": [],
   "source": []
  },
  {
   "cell_type": "markdown",
   "metadata": {},
   "source": [
    "### Stochastic squares"
   ]
  },
  {
   "cell_type": "code",
   "execution_count": null,
   "metadata": {},
   "outputs": [],
   "source": [
    "def  StochasticSquares(x_, p_, oracle):\n",
    "    start_time1 = time.time()\n",
    "    iter_max = 1000000\n",
    "    iter_counter = 0\n",
    "    oracle_counter = 0\n",
    "    func_res = []\n",
    "    x_convergence = []\n",
    "    grad_mapping = []\n",
    "    time_convergence = []\n",
    "    p = p_\n",
    "    I_p = np.identity(p)\n",
    "    I_n = np.identity(oracle.n)\n",
    "    L = 1\n",
    "    eps = 1e-6\n",
    "    x_new = x_\n",
    "    x_curr = x_\n",
    "    func_res.append(oracle.hat_f1(x_new))\n",
    "\n",
    "    while ((iter_counter <= iter_max) and (np.linalg.norm(x_new - x_curr, ord=2) > eps)) or (iter_counter == 0):\n",
    "        cur_time1 = time.time()\n",
    "        time_convergence.append(cur_time1 - start_time1)\n",
    "#        print(x_curr)     \n",
    "        x_curr = x_new.copy()\n",
    "        x_convergence.append(x_new)\n",
    "        J_curr = oracle.jacobian_F(x_curr)\n",
    "        a = np.sort(np.random.choice(range(J_curr.shape[0]), size=p, replace=False))\n",
    "#        print(a)\n",
    "        G_curr = J_curr[a, :].T\n",
    "        g_curr = oracle.grad_hat_f1(x_curr)\n",
    "        f_curr = oracle.hat_f1(x_curr)\n",
    "        gamma_curr = 1 / (p * f_curr)\n",
    "        while True:\n",
    "            B_curr = (I_n - gamma_curr / L * G_curr @ np.linalg.inv(I_p + gamma_curr / L * G_curr.T @ G_curr) @ G_curr.T) / L\n",
    "            x_new = x_curr - B_curr @ g_curr\n",
    "            f_new = oracle.hat_f1(x_new)\n",
    "            oracle_counter = oracle_counter  + 1\n",
    "\n",
    "            if (f_new <= f_curr\n",
    "                  + g_curr @ (x_new - x_curr)\n",
    "                  + 1 / (2 * p * f_curr) * np.linalg.norm(G_curr.T @ (x_new - x_curr), ord=2) ** 2\n",
    "                  + L / 2 * np.linalg.norm(x_new - x_curr, ord=2) ** 2):\n",
    "                 \n",
    "                func_res.append(f_new)\n",
    "                grad_mapping.append(np.linalg.norm(x_new - x_curr, ord=2))    \n",
    "                iter_counter = iter_counter + 1\n",
    "#                print('iter = ', iter_counter)\n",
    "                L = L / 2\n",
    "\n",
    "                break\n",
    "        \n",
    "            else:\n",
    "                L = 2 * L\n",
    "    x_convergence.append(x_new)\n",
    "    start_time2 = time.time()\n",
    "#    print(iter_counter, '.......', oracle_counter, '.......', min(grad_mapping),\n",
    "#         '.......', min(func_res))\n",
    "#    print(x_new)\n",
    "    return np.array(x_convergence), np.array(time_convergence), iter_counter, oracle_counter, min(grad_mapping), min(func_res), (start_time2 - start_time1)"
   ]
  },
  {
   "cell_type": "code",
   "execution_count": null,
   "metadata": {},
   "outputs": [],
   "source": [
    "x_0 = np.array([-1, 1, 1, 1, 1, 1, 1, 1, 1])\n",
    "x_convergence, _, num_iter = three_squares(x_0, max_iter= 175)"
   ]
  },
  {
   "cell_type": "code",
   "execution_count": null,
   "metadata": {
    "scrolled": true
   },
   "outputs": [],
   "source": [
    "#x_convergence"
   ]
  },
  {
   "cell_type": "code",
   "execution_count": null,
   "metadata": {},
   "outputs": [],
   "source": [
    "num_iter"
   ]
  },
  {
   "cell_type": "markdown",
   "metadata": {},
   "source": [
    "### Случай $n = 2$"
   ]
  },
  {
   "cell_type": "code",
   "execution_count": null,
   "metadata": {},
   "outputs": [],
   "source": [
    "#Запуск алгоритмов\n",
    "n = 2\n",
    "x0 = np.ones(n)\n",
    "x0[0] = -1\n",
    "x_true = np.ones(n)\n",
    "time_convergence_TS = []\n",
    "\n",
    "#solution_gd = gradient_descent.solve(x0, tol = 1e-6, max_iter = 1000)\n",
    "x_convergence, _, time_convergence_TS, num_iter = three_squares(x0, max_iter= 1000)\n",
    "#LM_convergence = Levenberg_Marquardt(F_Rozenbrock, grad_F_Rozenbrock, x0, lam = lam, rho_min = None, rho_max = None, tol = tol, max_iter = 1000)"
   ]
  },
  {
   "cell_type": "code",
   "execution_count": null,
   "metadata": {},
   "outputs": [],
   "source": []
  },
  {
   "cell_type": "markdown",
   "metadata": {},
   "source": [
    "### Случай $n = 4$"
   ]
  },
  {
   "cell_type": "code",
   "execution_count": null,
   "metadata": {},
   "outputs": [],
   "source": [
    "from plotting import *\n",
    "\n",
    "n = 4\n",
    "p1 = 2\n",
    "p2 = n - 1\n",
    "x0 = np.ones(n)\n",
    "x0[0] = -1\n",
    "x_true = np.ones(n)\n",
    "\n",
    "step_size = 0.1\n",
    "\n",
    "oracle = Oracle_Chebyshev_Oscillator(n)\n",
    "repeats = 1\n",
    "iter_counter = np.zeros(repeats)\n",
    "oracle_counter = np.zeros(repeats)\n",
    "x_convergence_SS = np.zeros(repeats)\n",
    "times = np.zeros(repeats)\n",
    "mapping = np.zeros(repeats)\n",
    "func = np.zeros(repeats)\n",
    "for i in range(repeats):\n",
    "    x_convergence_SS_p1, time_convergence_SS_p1, iter_counter[i], oracle_counter[i], mapping[i], func[i], times[i] = StochasticSquares(x0, p1, oracle)\n",
    "    x_convergence_SS_p2, time_convergence_SS_p2, iter_counter[i], oracle_counter[i], mapping[i], func[i], times[i] = StochasticSquares(x0, p2, oracle)\n",
    "gradient_descent = methods.fo.GradientDescent(F_Rozenbrock_for_gd, grad_Rozenbrock_for_gd, ss.ConstantStepSize(step_size))\n",
    "sol = gradient_descent.solve(x0, tol = 1e-6, max_iter = 1000)\n",
    "x_convergence_TS, _, time_convergence_TS, num_iter = three_squares(x0, max_iter= 10000)\n",
    "x_convergence_LM, time_convergence_LM =Levenberg_Marquardt(F_Rozenbrock, grad_F_Rozenbrock, x0, lam = 0.1, \n",
    "                                     rho_min = None, rho_max = None, tol = 1e-7, max_iter = 10000) #*args = [n, m], kwargs)\n",
    "plot_dict = {\"TS\": [x_convergence_TS[:-1], time_convergence_TS], \n",
    "             \"LM\": [x_convergence_LM, time_convergence_LM],\n",
    "             \"SimpleGD\": [gradient_descent.get_convergence(), None],\n",
    "             f\"SS p = {p1}\": [x_convergence_SS_p1[:-1], time_convergence_SS_p1],\n",
    "             f\"SS p = {p2}\": [x_convergence_SS_p2[:-1], time_convergence_SS_p2]}"
   ]
  },
  {
   "cell_type": "code",
   "execution_count": null,
   "metadata": {},
   "outputs": [],
   "source": []
  },
  {
   "cell_type": "code",
   "execution_count": null,
   "metadata": {},
   "outputs": [],
   "source": [
    "plot_time_depend(plot_dict, n, grad_Rozenbrock_for_gd)\n",
    "plot_iter_depend_grad(plot_dict, n, grad_Rozenbrock_for_gd)\n",
    "plot_iter_depend_delta(plot_dict, x_true, n)\n",
    "plot_iter_depend_norm(plot_dict, n, F_Rozenbrock)"
   ]
  },
  {
   "cell_type": "markdown",
   "metadata": {},
   "source": [
    "### Случай $n= 7$"
   ]
  },
  {
   "cell_type": "code",
   "execution_count": null,
   "metadata": {},
   "outputs": [],
   "source": [
    "#Запуск алгоритмов\n",
    "n = 7\n",
    "p1 = 2\n",
    "p2 = n - 1\n",
    "x0 = np.ones(n)\n",
    "x0[0] = -1\n",
    "x_true = np.ones(n)\n",
    "\n",
    "step_size = 0.1\n",
    "\n",
    "oracle = Oracle_Chebyshev_Oscillator(n)\n",
    "repeats = 1\n",
    "iter_counter = np.zeros(repeats)\n",
    "oracle_counter = np.zeros(repeats)\n",
    "x_convergence_SS = np.zeros(repeats)\n",
    "times = np.zeros(repeats)\n",
    "mapping = np.zeros(repeats)\n",
    "func = np.zeros(repeats)\n",
    "for i in range(repeats):\n",
    "    x_convergence_SS_p1, time_convergence_SS_p1, iter_counter[i], oracle_counter[i], mapping[i], func[i], times[i] = StochasticSquares(x0, p1, oracle)\n",
    "    x_convergence_SS_p2, time_convergence_SS_p2, iter_counter[i], oracle_counter[i], mapping[i], func[i], times[i] = StochasticSquares(x0, p2, oracle)\n",
    "gradient_descent = methods.fo.GradientDescent(F_Rozenbrock_for_gd, grad_Rozenbrock_for_gd, ss.ConstantStepSize(step_size))\n",
    "sol = gradient_descent.solve(x0, tol = 1e-6, max_iter = 1000)\n",
    "x_convergence_TS, _, time_convergence_TS, num_iter = three_squares(x0, max_iter= 10000)\n",
    "x_convergence_LM, time_convergence_LM =Levenberg_Marquardt(F_Rozenbrock, grad_F_Rozenbrock, x0, lam = 0.1, \n",
    "                                     rho_min = None, rho_max = None, tol = 1e-7, max_iter = 10000) #*args = [n, m], kwargs)\n",
    "plot_dict = {\"TS\": [x_convergence_TS[:-1], time_convergence_TS], \n",
    "             \"LM\": [x_convergence_LM, time_convergence_LM],\n",
    "             \"SimpleGD\": [gradient_descent.get_convergence(), None],\n",
    "             f\"SS p = {p1}\": [x_convergence_SS_p1[:-1], time_convergence_SS_p1],\n",
    "             f\"SS p = {p2}\": [x_convergence_SS_p2[:-1], time_convergence_SS_p2]}"
   ]
  },
  {
   "cell_type": "code",
   "execution_count": null,
   "metadata": {},
   "outputs": [],
   "source": [
    "plot_time_depend(plot_dict, n, grad_Rozenbrock_for_gd)\n",
    "plot_iter_depend_grad(plot_dict, n, grad_Rozenbrock_for_gd)\n",
    "plot_iter_depend_delta(plot_dict, x_true, n)\n",
    "plot_iter_depend_norm(plot_dict, n, F_Rozenbrock)"
   ]
  },
  {
   "cell_type": "markdown",
   "metadata": {},
   "source": [
    "## Случай $n = 9$"
   ]
  },
  {
   "cell_type": "code",
   "execution_count": null,
   "metadata": {},
   "outputs": [],
   "source": [
    "#Запуск алгоритмов\n",
    "n = 9\n",
    "p1 = 2\n",
    "p2 = n - 1\n",
    "x0 = np.ones(n)\n",
    "x0[0] = -1\n",
    "x_true = np.ones(n)\n",
    "\n",
    "step_size = 0.1\n",
    "\n",
    "oracle = Oracle_Chebyshev_Oscillator(n)\n",
    "repeats = 1\n",
    "iter_counter = np.zeros(repeats)\n",
    "oracle_counter = np.zeros(repeats)\n",
    "x_convergence_SS = np.zeros(repeats)\n",
    "times = np.zeros(repeats)\n",
    "mapping = np.zeros(repeats)\n",
    "func = np.zeros(repeats)\n",
    "for i in range(repeats):\n",
    "    x_convergence_SS_p1, time_convergence_SS_p1, iter_counter[i], oracle_counter[i], mapping[i], func[i], times[i] = StochasticSquares(x0, p1, oracle)\n",
    "    x_convergence_SS_p2, time_convergence_SS_p2, iter_counter[i], oracle_counter[i], mapping[i], func[i], times[i] = StochasticSquares(x0, p2, oracle)\n",
    "gradient_descent = methods.fo.GradientDescent(F_Rozenbrock_for_gd, grad_Rozenbrock_for_gd, ss.ConstantStepSize(step_size))\n",
    "sol = gradient_descent.solve(x0, tol = 1e-6, max_iter = 1000)\n",
    "x_convergence_TS, _, time_convergence_TS, num_iter = three_squares(x0, max_iter= 10000)\n",
    "x_convergence_LM, time_convergence_LM =Levenberg_Marquardt(F_Rozenbrock, grad_F_Rozenbrock, x0, lam = 0.1, \n",
    "                                     rho_min = None, rho_max = None, tol = 1e-7, max_iter = 1e6) #*args = [n, m], kwargs)\n",
    "plot_dict = {\"TS\": [x_convergence_TS[:-1], time_convergence_TS], \n",
    "             \"LM\": [x_convergence_LM, time_convergence_LM],\n",
    "             \"SimpleGD\": [gradient_descent.get_convergence(), None],\n",
    "             f\"SS p = {p1}\": [x_convergence_SS_p1[:-1], time_convergence_SS_p1],\n",
    "             f\"SS p = {p2}\": [x_convergence_SS_p2[:-1], time_convergence_SS_p2]}"
   ]
  },
  {
   "cell_type": "code",
   "execution_count": null,
   "metadata": {},
   "outputs": [],
   "source": [
    "plot_time_depend(plot_dict, n, grad_Rozenbrock_for_gd)\n",
    "plot_iter_depend_grad(plot_dict, n, grad_Rozenbrock_for_gd)\n",
    "plot_iter_depend_delta(plot_dict, x_true, n)\n",
    "plot_iter_depend_norm(plot_dict, n, F_Rozenbrock)"
   ]
  },
  {
   "cell_type": "markdown",
   "metadata": {},
   "source": [
    "## Случай $n = 11$"
   ]
  },
  {
   "cell_type": "code",
   "execution_count": null,
   "metadata": {},
   "outputs": [],
   "source": [
    "#Запуск алгоритмов\n",
    "n = 11\n",
    "p1 = 2\n",
    "p2 = n - 1\n",
    "x0 = np.ones(n)\n",
    "x0[0] = -1\n",
    "x_true = np.ones(n)\n",
    "\n",
    "step_size = 0.1\n",
    "\n",
    "oracle = Oracle_Chebyshev_Oscillator(n)\n",
    "repeats = 1\n",
    "iter_counter = np.zeros(repeats)\n",
    "oracle_counter = np.zeros(repeats)\n",
    "x_convergence_SS = np.zeros(repeats)\n",
    "times = np.zeros(repeats)\n",
    "mapping = np.zeros(repeats)\n",
    "func = np.zeros(repeats)\n",
    "for i in range(repeats):\n",
    "    x_convergence_SS_p1, time_convergence_SS_p1, iter_counter[i], oracle_counter[i], mapping[i], func[i], times[i] = StochasticSquares(x0, p1, oracle)\n",
    "    x_convergence_SS_p2, time_convergence_SS_p2, iter_counter[i], oracle_counter[i], mapping[i], func[i], times[i] = StochasticSquares(x0, p2, oracle)\n",
    "gradient_descent = methods.fo.GradientDescent(F_Rozenbrock_for_gd, grad_Rozenbrock_for_gd, ss.ConstantStepSize(step_size))\n",
    "sol = gradient_descent.solve(x0, tol = 1e-6, max_iter = 1000)\n",
    "#x_convergence_TS, _, time_convergence_TS, num_iter = three_squares(x0, max_iter= 10000)\n",
    "x_convergence_LM, time_convergence_LM =Levenberg_Marquardt(F_Rozenbrock, grad_F_Rozenbrock, x0, lam = 0.1, \n",
    "                                     rho_min = None, rho_max = None, tol = 1e-7, max_iter = 1e6) #*args = [n, m], kwargs)\n",
    "plot_dict = {\"LM\": [x_convergence_LM, time_convergence_LM],\n",
    "             \"SimpleGD\": [gradient_descent.get_convergence(), None],\n",
    "             f\"SS p = {p1}\": [x_convergence_SS_p1[:-1], time_convergence_SS_p1],\n",
    "             f\"SS p = {p2}\": [x_convergence_SS_p2[:-1], time_convergence_SS_p2]}"
   ]
  },
  {
   "cell_type": "code",
   "execution_count": null,
   "metadata": {},
   "outputs": [],
   "source": [
    "plot_time_depend(plot_dict, n, grad_Rozenbrock_for_gd)\n",
    "plot_iter_depend_grad(plot_dict, n, grad_Rozenbrock_for_gd)\n",
    "plot_iter_depend_delta(plot_dict, x_true, n)\n",
    "plot_iter_depend_norm(plot_dict, n, F_Rozenbrock)"
   ]
  },
  {
   "cell_type": "markdown",
   "metadata": {},
   "source": [
    "# Example Trigonometric Oscill f(x)"
   ]
  },
  {
   "cell_type": "markdown",
   "metadata": {},
   "source": [
    "## Случай $n = 4$"
   ]
  },
  {
   "cell_type": "code",
   "execution_count": 16,
   "metadata": {},
   "outputs": [],
   "source": [
    "n = 4\n",
    "p1 = 2\n",
    "p2 = n - 1\n",
    "x0 = np.ones(n)\n",
    "x0[0] = -1\n",
    "x_true = np.ones(n)\n",
    "\n",
    "step_size = 0.1\n",
    "\n",
    "oracle = Oracle_Trigonometric_Oscillator(n)\n",
    "repeats = 1\n",
    "iter_counter = np.zeros(repeats)\n",
    "oracle_counter = np.zeros(repeats)\n",
    "x_convergence_SS = np.zeros(repeats)\n",
    "times = np.zeros(repeats)\n",
    "mapping = np.zeros(repeats)\n",
    "func = np.zeros(repeats)\n",
    "for i in range(repeats):\n",
    "    x_convergence_SS_p1, time_convergence_SS_p1, iter_counter[i], oracle_counter[i], mapping[i], func[i], times[i] = StochasticSquares(x0, p1, oracle)\n",
    "    x_convergence_SS_p2, time_convergence_SS_p2, iter_counter[i], oracle_counter[i], mapping[i], func[i], times[i] = StochasticSquares(x0, p2, oracle)\n",
    "#gradient_descent = methods.fo.GradientDescent(F_Rozenbrock_for_gd, grad_Rozenbrock_for_gd, ss.ConstantStepSize(step_size))\n",
    "#sol = gradient_descent.solve(x0, tol = 1e-6, max_iter = 1000)\n",
    "#x_convergence_TS, _, time_convergence_TS, num_iter = three_squares(x0, max_iter= 10000)\n",
    "x_convergence_LM, time_convergence_LM =Levenberg_Marquardt(F_Trigonom, jacobian_F, x0, lam = 0.1, \n",
    "                                     rho_min = None, rho_max = None, tol = 1e-7, max_iter = 10000) #*args = [n, m], kwargs)\n",
    "plot_dict = {\"LM\": [x_convergence_LM, time_convergence_LM],\n",
    "             f\"SS p = {p1}\": [x_convergence_SS_p1[:-1], time_convergence_SS_p1],\n",
    "             f\"SS p = {p2}\": [x_convergence_SS_p2[:-1], time_convergence_SS_p2]}"
   ]
  },
  {
   "cell_type": "code",
   "execution_count": 17,
   "metadata": {},
   "outputs": [
    {
     "data": {
      "image/png": "[encoded data removed]",
      "text/plain": [
       "<Figure size 720x720 with 1 Axes>"
      ]
     },
     "metadata": {
      "needs_background": "light"
     },
     "output_type": "display_data"
    },
    {
     "data": {
      "image/png": "[encoded data removed]",
      "text/plain": [
       "<Figure size 720x720 with 1 Axes>"
      ]
     },
     "metadata": {
      "needs_background": "light"
     },
     "output_type": "display_data"
    },
    {
     "data": {
      "image/png": "[encoded data removed]",
      "text/plain": [
       "<Figure size 720x720 with 1 Axes>"
      ]
     },
     "metadata": {
      "needs_background": "light"
     },
     "output_type": "display_data"
    },
    {
     "data": {
      "image/png": "[encoded data removed]",
      "text/plain": [
       "<Figure size 720x720 with 1 Axes>"
      ]
     },
     "metadata": {
      "needs_background": "light"
     },
     "output_type": "display_data"
    }
   ],
   "source": [
    "plot_time_depend(plot_dict, n, grad_Rozenbrock_for_gd, 2)\n",
    "plot_iter_depend_grad(plot_dict, n, grad_Rozenbrock_for_gd, 2)\n",
    "plot_iter_depend_delta(plot_dict, x_true, n, 2)\n",
    "plot_iter_depend_norm(plot_dict, n, F_Rozenbrock, 2)"
   ]
  },
  {
   "cell_type": "markdown",
   "metadata": {},
   "source": [
    "## Normalize Squares"
   ]
  },
  {
   "cell_type": "code",
   "execution_count": null,
   "metadata": {},
   "outputs": [],
   "source": [
    "def Normalized_f(x):\n",
    "    return 1/x.shape[0]**(0.5) * F_Rozenbrock(x)\n"
   ]
  },
  {
   "cell_type": "code",
   "execution_count": null,
   "metadata": {},
   "outputs": [],
   "source": []
  },
  {
   "cell_type": "code",
   "execution_count": null,
   "metadata": {},
   "outputs": [],
   "source": []
  },
  {
   "cell_type": "code",
   "execution_count": null,
   "metadata": {},
   "outputs": [],
   "source": []
  },
  {
   "cell_type": "markdown",
   "metadata": {},
   "source": [
    "## Stochastic Squares"
   ]
  },
  {
   "cell_type": "code",
   "execution_count": null,
   "metadata": {},
   "outputs": [],
   "source": []
  },
  {
   "cell_type": "code",
   "execution_count": 14,
   "metadata": {},
   "outputs": [],
   "source": []
  },
  {
   "cell_type": "code",
   "execution_count": null,
   "metadata": {
    "scrolled": true
   },
   "outputs": [],
   "source": [
    "n = 4\n",
    "p = 2\n",
    "x_0 = np.ones(n)\n",
    "x_0[0] = -1\n",
    "\n",
    "oracle = Oracle_Trigonometric_Oscillator(n)\n",
    "repeats = 1\n",
    "iter_counter = np.zeros(repeats)\n",
    "oracle_counter = np.zeros(repeats)\n",
    "x_convergence_SS = np.zeros(repeats)\n",
    "times = np.zeros(repeats)\n",
    "mapping = np.zeros(repeats)\n",
    "func = np.zeros(repeats)\n",
    "for i in range(repeats):\n",
    "    x_convergence_SS, iter_counter[i], oracle_counter[i], mapping[i], func[i], times[i] = StochasticSquares(x_0, p, oracle)\n",
    "    \n",
    "\n",
    "print('iter_counter = ', np.mean(iter_counter))\n",
    "print('oracle_counter = ', np.mean(oracle_counter))\n",
    "print('grad_mapping = ', np.mean(mapping))\n",
    "print('func = ', np.mean(func))\n",
    "print('time = ', np.mean(times))"
   ]
  },
  {
   "cell_type": "code",
   "execution_count": null,
   "metadata": {},
   "outputs": [],
   "source": [
    "x_convergence_SS"
   ]
  },
  {
   "cell_type": "code",
   "execution_count": null,
   "metadata": {},
   "outputs": [],
   "source": [
    "plt.loglog([np.linalg.norm(oracle.F(x) - oracle.F(x_true)) for x in x_convergence_SS])"
   ]
  },
  {
   "cell_type": "code",
   "execution_count": null,
   "metadata": {},
   "outputs": [],
   "source": [
    "x_convergence_SS"
   ]
  },
  {
   "cell_type": "code",
   "execution_count": null,
   "metadata": {},
   "outputs": [],
   "source": []
  },
  {
   "cell_type": "code",
   "execution_count": null,
   "metadata": {},
   "outputs": [],
   "source": [
    "n = 10\n",
    "p = 10\n",
    "x_0 = np.ones(n)\n",
    "x_0[0] = -1\n",
    "x_true = np.ones(n)\n",
    "oracle = Oracle_Chebyshev_Oscillator(n)\n",
    "repeats = 1\n",
    "x_convergence_SS = []\n",
    "iter_counter = np.zeros(repeats)\n",
    "oracle_counter = np.zeros(repeats)\n",
    "times = np.zeros(repeats)\n",
    "mapping = np.zeros(repeats)\n",
    "func = np.zeros(repeats)\n",
    "for i in range(repeats):\n",
    "    x_convergence_SS, iter_counter[i], oracle_counter[i], mapping[i], func[i], times[i] = StochasticSquares(x_0, p, oracle)\n",
    "\n",
    "    \n",
    "\n",
    "print('iter_counter = ', np.mean(iter_counter))\n",
    "print('oracle_counter = ', np.mean(oracle_counter))\n",
    "print('grad_mapping = ', np.mean(mapping))\n",
    "print('func = ', np.mean(func))\n",
    "print('time = ', np.mean(times))"
   ]
  },
  {
   "cell_type": "code",
   "execution_count": null,
   "metadata": {},
   "outputs": [],
   "source": [
    "plt.loglog([np.linalg.norm(oracle.F(x) - oracle.F(x_true)) for x in x_convergence_SS])"
   ]
  },
  {
   "cell_type": "code",
   "execution_count": null,
   "metadata": {},
   "outputs": [],
   "source": []
  },
  {
   "cell_type": "code",
   "execution_count": null,
   "metadata": {},
   "outputs": [],
   "source": []
  }
 ],
 "metadata": {
  "kernelspec": {
   "display_name": "Python 3",
   "language": "python",
   "name": "python3"
  },
  "language_info": {
   "codemirror_mode": {
    "name": "ipython",
    "version": 3
   },
   "file_extension": ".py",
   "mimetype": "text/x-python",
   "name": "python",
   "nbconvert_exporter": "python",
   "pygments_lexer": "ipython3",
   "version": "3.7.3"
  }
 },
 "nbformat": 4,
 "nbformat_minor": 2
}
